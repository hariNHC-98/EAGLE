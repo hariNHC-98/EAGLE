{
 "cells": [
  {
   "cell_type": "markdown",
   "metadata": {},
   "source": [
    "# Drone Simulator"
   ]
  },
  {
   "cell_type": "code",
   "execution_count": null,
   "metadata": {},
   "outputs": [],
   "source": [
    "%matplotlib notebook\n",
    "\n",
    "from py_drone_module import Drone, DroneReference, DroneReferenceFunction, AdaptiveODEOptions\n",
    "from py_drone_module import eul2quat, quatmultiply, quatconjugate\n",
    "from DroneParamsAndMatricesBuilder import buildDroneParamsAndMatrices\n",
    "from numpy import array, diag\n",
    "from math import pi\n",
    "import Reference\n",
    "import DronePlotter\n",
    "import matplotlib.pyplot as plt\n",
    "import time\n",
    "\n",
    "from ipywidgets import interact, interactive\n",
    "import ipywidgets as widgets\n",
    "\n",
    "from IPython.core.display import display, HTML\n",
    "display(HTML(\"<style>.container { width:90vw !important; }</style>\"))"
   ]
  },
  {
   "cell_type": "markdown",
   "metadata": {},
   "source": [
    "### Attitude and Altitude Controller Settings"
   ]
  },
  {
   "cell_type": "code",
   "execution_count": null,
   "metadata": {},
   "outputs": [],
   "source": [
    "Q_att = diag((139.6245112700232,\n",
    "              139.6245112700232,\n",
    "              15.2811761590895,\n",
    "              1.1505204155597211,\n",
    "              1.1505204155597211,\n",
    "              0.1209919487616804,\n",
    "              9.976475759487083e-08,\n",
    "              9.976475759487083e-08,\n",
    "              9.976475759487083e-09))\n",
    "R_att = diag((8, 8, 8))\n",
    "K_pi_alt = array((0.0013, 0.0747, 0.1068, -0.01))\n",
    "maxIntegralInfluence = 0.001"
   ]
  },
  {
   "cell_type": "markdown",
   "metadata": {},
   "source": [
    "### Drone Model and Controllers"
   ]
  },
  {
   "cell_type": "code",
   "execution_count": null,
   "metadata": {},
   "outputs": [],
   "source": [
    "dp = buildDroneParamsAndMatrices()\n",
    "d = Drone(dp)\n",
    "controller = d.getController(Q_att, R_att, K_pi_alt, maxIntegralInfluence)"
   ]
  },
  {
   "cell_type": "markdown",
   "metadata": {},
   "source": [
    "### Reference"
   ]
  },
  {
   "cell_type": "code",
   "execution_count": null,
   "metadata": {},
   "outputs": [],
   "source": [
    "def get_reference(t):\n",
    "    m = 0.5  # time scale factor\n",
    "\n",
    "    qz = eul2quat((10*pi/180, 0, 0))\n",
    "    qy = eul2quat((0, 10*pi/180, 0))\n",
    "    qx = eul2quat((0, 0, 10*pi/180))\n",
    "    q = eul2quat((0, 0, 0))\n",
    "\n",
    "    if (t >= m * 1 and t < m * 3):\n",
    "        q = quatmultiply(q, qz)\n",
    "    if (t >= m * 5 and t < m * 7):\n",
    "        q = quatmultiply(q, qy)\n",
    "    if (t >= m * 9 and t < m * 11):\n",
    "        q = quatmultiply(q, qx)\n",
    "\n",
    "    if (t >= m * 13 and t < m * 15):\n",
    "        q = quatmultiply(q, quatconjugate(qy))\n",
    "    if (t >= m * 17 and t < m * 19):\n",
    "        q = quatmultiply(q, quatconjugate(qx))\n",
    "    if (t >= m * 21 and t < m * 23):\n",
    "        q = quatmultiply(q, quatconjugate(qz))\n",
    "\n",
    "    if (t >= m * 27 and t < m * 30):\n",
    "        q = quatmultiply(q, qy)\n",
    "    if (t >= m * 28 and t < m * 31):\n",
    "        q = quatmultiply(q, qx)\n",
    "\n",
    "    if (t >= m * 33 and t < m * 36):\n",
    "        q = quatmultiply(q, quatconjugate(qx))\n",
    "    if (t >= m * 34 and t < m * 37):\n",
    "        q = quatmultiply(q, quatconjugate(qy))\n",
    "\n",
    "    rr = DroneReference()\n",
    "    rr.setOrientation(q)\n",
    "    rr.setPosition((0, 0, 1.0 * (t >= m * 16)))\n",
    "    return rr.asColVector()\n",
    "\n",
    "ref_function = DroneReferenceFunction(Reference.get_reference)"
   ]
  },
  {
   "cell_type": "markdown",
   "metadata": {},
   "source": [
    "### Initial Conditions and Integration Options"
   ]
  },
  {
   "cell_type": "code",
   "execution_count": null,
   "metadata": {},
   "outputs": [],
   "source": [
    "x0 = d.getStableState()\n",
    "\n",
    "odeopt = AdaptiveODEOptions()\n",
    "odeopt.t_start = 0\n",
    "odeopt.t_end = 16\n",
    "odeopt.epsilon = 1e-6\n",
    "odeopt.h_start = 1e-6\n",
    "odeopt.h_min = 1e-8\n",
    "odeopt.maxiter = int(1e6)"
   ]
  },
  {
   "cell_type": "markdown",
   "metadata": {},
   "source": [
    "### Plotting"
   ]
  },
  {
   "cell_type": "code",
   "execution_count": null,
   "metadata": {
    "scrolled": false
   },
   "outputs": [],
   "source": [
    "result = d.simulate(controller, ref_function, x0, odeopt)\n",
    "start_time = time.time()\n",
    "fig, lines = DronePlotter.plot(result, vertical=False)\n",
    "end_time = time.time()\n",
    "print('Initial plotting took {:.3f} ms'.format((end_time - start_time)*1000.0))\n",
    "\n",
    "def update(mass):\n",
    "    start_time = time.time()\n",
    "    dp = buildDroneParamsAndMatrices(m=mass)\n",
    "    assert(dp.uh <= 0.90)\n",
    "    d = Drone(dp)\n",
    "    controller = d.getController(Q_att, R_att, K_pi_alt, maxIntegralInfluence)\n",
    "    result = d.simulate(controller, ref_function, x0, odeopt)\n",
    "    end_time = time.time()\n",
    "    print('Simulation took {:.3f} ms'.format((end_time - start_time)*1000.0))\n",
    "\n",
    "    start_time = time.time()\n",
    "    DronePlotter.update_plot(lines, result)\n",
    "    fig.canvas.draw()\n",
    "    end_time = time.time()\n",
    "    print('Updating plot took {:.3f} ms'.format(\n",
    "        (end_time - start_time)*1000.0))\n",
    "    fig.tight_layout()"
   ]
  },
  {
   "cell_type": "code",
   "execution_count": null,
   "metadata": {
    "scrolled": false
   },
   "outputs": [],
   "source": [
    "interact(update, \n",
    "         mass=widgets.FloatSlider(min=1.0,max=3.0,step=0.1,value=1.8,continuous_update=False));"
   ]
  },
  {
   "cell_type": "code",
   "execution_count": null,
   "metadata": {},
   "outputs": [],
   "source": []
  }
 ],
 "metadata": {
  "kernelspec": {
   "display_name": "Python 3",
   "language": "python",
   "name": "python3"
  },
  "language_info": {
   "codemirror_mode": {
    "name": "ipython",
    "version": 3
   },
   "file_extension": ".py",
   "mimetype": "text/x-python",
   "name": "python",
   "nbconvert_exporter": "python",
   "pygments_lexer": "ipython3",
   "version": "3.6.8"
  }
 },
 "nbformat": 4,
 "nbformat_minor": 2
}
