{
 "cells": [
  {
   "cell_type": "markdown",
   "metadata": {},
   "source": [
    "# Drone Simulator"
   ]
  },
  {
   "cell_type": "code",
   "execution_count": null,
   "metadata": {},
   "outputs": [],
   "source": [
    "%matplotlib notebook\n",
    "\n",
    "from py_drone_module import Drone, DroneReference, DroneReferenceFunction, AdaptiveODEOptions\n",
    "from py_drone_module import eul2quat, quatmultiply, quatconjugate\n",
    "from py_drone_module import GaussianNoiseGeneratorInput, GaussianNoiseGeneratorOutput\n",
    "from plot_simulation.DroneParamsAndMatricesBuilder import buildDroneParamsAndMatrices\n",
    "from numpy import array, diag\n",
    "import numpy as np\n",
    "from math import pi\n",
    "from plot_simulation.quat_params import quat_params\n",
    "import plot_simulation.Reference\n",
    "import DronePlotter\n",
    "import matplotlib.pyplot as plt\n",
    "import time\n",
    "import copy\n",
    "\n",
    "from ipywidgets import interact, interactive\n",
    "import ipywidgets as widgets\n",
    "\n",
    "from IPython.core.display import display, HTML\n",
    "display(HTML(\"<style>.container { width:95vw !important; }</style>\"))"
   ]
  },
  {
   "cell_type": "markdown",
   "metadata": {},
   "source": [
    "### Attitude and Altitude Controller Settings"
   ]
  },
  {
   "cell_type": "code",
   "execution_count": null,
   "metadata": {},
   "outputs": [],
   "source": [
    "Q_att = diag((139.6245112700232,\n",
    "              139.6245112700232,\n",
    "              15.2811761590895,\n",
    "              1.1505204155597211,\n",
    "              1.1505204155597211,\n",
    "              0.1209919487616804,\n",
    "              9.976475759487083e-08,\n",
    "              9.976475759487083e-08,\n",
    "              9.976475759487083e-09))\n",
    "R_att = diag((8, 8, 8))\n",
    "K_pi_alt = array((0.0, 0.9, 0.5, 0.1))\n",
    "maxIntegral = 10\n",
    "\n",
    "varDynamics_att = array(((1e-4, 1e-4, 1e-6),))\n",
    "varSensors_att = np.transpose(\n",
    "    np.concatenate((\n",
    "        eul2quat(pi / 180.0 * np.ones(3)),\n",
    "        0.005 * np.ones((3,1)))))\n",
    "print(varDynamics_att)\n",
    "print(varSensors_att)\n",
    "\n",
    "varDynamics_alt = array(((1e-1,),))\n",
    "varSensors_alt = array(((1e-2,),))\n",
    "print(varDynamics_alt)\n",
    "print(varSensors_alt)\n",
    "\n",
    "varDynamics_nav = np.zeros((1,0))\n",
    "varSensors_nav = np.zeros((1,2))\n",
    "print(varDynamics_nav)\n",
    "print(varSensors_nav)\n",
    "\n",
    "# I used a smaller varDynamics_alt here\n",
    "varDynamics = np.concatenate((varDynamics_att, varDynamics_alt / 100, varDynamics_nav), axis=1)\n",
    "varSensors = np.concatenate((varSensors_att, varSensors_alt, varSensors_nav), axis=1)\n",
    "\n",
    "randFnW = GaussianNoiseGeneratorInput(varDynamics)\n",
    "randFnV = GaussianNoiseGeneratorOutput(varSensors)\n",
    "\n",
    "# randFnW = GaussianNoiseGeneratorInput(np.zeros((1,4)))\n",
    "# randFnV = GaussianNoiseGeneratorOutput(np.zeros((1,10)))"
   ]
  },
  {
   "cell_type": "markdown",
   "metadata": {},
   "source": [
    "### Drone Model and Controllers"
   ]
  },
  {
   "cell_type": "code",
   "execution_count": null,
   "metadata": {},
   "outputs": [],
   "source": [
    "p = quat_params()\n",
    "dp = buildDroneParamsAndMatrices(p)\n",
    "d = Drone(dp)\n",
    "controller = d.getController(Q_att, R_att, K_pi_alt, maxIntegral)\n",
    "observer = d.getObserver(varDynamics_att, varSensors_att,\n",
    "                         varDynamics_alt, varSensors_alt)"
   ]
  },
  {
   "cell_type": "markdown",
   "metadata": {},
   "source": [
    "### Reference"
   ]
  },
  {
   "cell_type": "code",
   "execution_count": null,
   "metadata": {},
   "outputs": [],
   "source": [
    "def get_reference(t):\n",
    "    m = 0.5  # time scale factor\n",
    "\n",
    "    qz = eul2quat((8*pi/180, 0, 0))\n",
    "    qy = eul2quat((0, 8*pi/180, 0))\n",
    "    qx = eul2quat((0, 0, 8*pi/180))\n",
    "    q = eul2quat((0, 0, 0))\n",
    "\n",
    "    if (t >= m * 1 and t < m * 3):\n",
    "        q = quatmultiply(q, qz)\n",
    "    if (t >= m * 5 and t < m * 7):\n",
    "        q = quatmultiply(q, qy)\n",
    "    if (t >= m * 9 and t < m * 11):\n",
    "        q = quatmultiply(q, qx)\n",
    "\n",
    "    if (t >= m * 13 and t < m * 15):\n",
    "        q = quatmultiply(q, quatconjugate(qy))\n",
    "    if (t >= m * 17 and t < m * 19):\n",
    "        q = quatmultiply(q, quatconjugate(qx))\n",
    "    if (t >= m * 21 and t < m * 23):\n",
    "        q = quatmultiply(q, quatconjugate(qz))\n",
    "\n",
    "    if (t >= m * 27 and t < m * 30):\n",
    "        q = quatmultiply(q, qy)\n",
    "    if (t >= m * 28 and t < m * 31):\n",
    "        q = quatmultiply(q, qx)\n",
    "\n",
    "    if (t >= m * 33 and t < m * 36):\n",
    "        q = quatmultiply(q, quatconjugate(qx))\n",
    "    if (t >= m * 34 and t < m * 37):\n",
    "        q = quatmultiply(q, quatconjugate(qy))\n",
    "\n",
    "    rr = DroneReference()\n",
    "    rr.setOrientation(q)\n",
    "    rr.setPosition((0, 0, 1.0 * (t >= m * 8)))\n",
    "    return rr.asColVector()\n",
    "\n",
    "ref_function = DroneReferenceFunction(get_reference)"
   ]
  },
  {
   "cell_type": "markdown",
   "metadata": {},
   "source": [
    "### Initial Conditions and Integration Options"
   ]
  },
  {
   "cell_type": "code",
   "execution_count": null,
   "metadata": {},
   "outputs": [],
   "source": [
    "x0 = d.getStableState()\n",
    "\n",
    "odeopt = AdaptiveODEOptions()\n",
    "odeopt.t_start = 0\n",
    "odeopt.t_end = 16\n",
    "odeopt.epsilon = 1e-5\n",
    "odeopt.h_start = 1e-6\n",
    "odeopt.h_min = 1e-8\n",
    "odeopt.maxiter = int(1e6)"
   ]
  },
  {
   "cell_type": "markdown",
   "metadata": {},
   "source": [
    "### Plotting"
   ]
  },
  {
   "cell_type": "code",
   "execution_count": null,
   "metadata": {
    "scrolled": false
   },
   "outputs": [],
   "source": [
    "result = d.simulate(controller, observer, randFnW, randFnV, ref_function, x0, odeopt)\n",
    "start_time = time.time()\n",
    "fig, lines = DronePlotter.plot(result, vertical=True, w=1500, h=800*3)\n",
    "end_time = time.time()\n",
    "print('Initial plotting took {:.3f} ms'.format((end_time - start_time)*1000.0))\n",
    "\n",
    "def update(**kwargs):\n",
    "    start_time = time.time()\n",
    "    # Calculate new parameters\n",
    "    p = quat_params(**kwargs)\n",
    "    kwargs['nh'] = p['nh'] * (100 + kwargs['nh_percent']) / 100\n",
    "    # Override the hovering motor speed\n",
    "    p = quat_params(**kwargs)\n",
    "    # Build a new drone model using these parameters\n",
    "    altered_dp = buildDroneParamsAndMatrices(p)\n",
    "    print(altered_dp.uh)\n",
    "    assert(altered_dp.uh <= 0.90)\n",
    "    assert(altered_dp.uh >= 0.10)\n",
    "    altered_drone = Drone(altered_dp)\n",
    "    \n",
    "    # Design a new controller with the new integral settings, but with the parameters of the original drone\n",
    "    if kwargs['Ccontrollers']:\n",
    "        controller = d.getCController(kwargs['config'], kwargs['alt_integral_enabled'])\n",
    "    else:\n",
    "        K_pi_alt[3] = kwargs['Ki_alt'] if kwargs['alt_integral_enabled'] else 0\n",
    "        print(K_pi_alt)\n",
    "        print(kwargs['maxInt'])\n",
    "        controller = d.getController(Q_att, R_att, K_pi_alt, kwargs['maxInt'])\n",
    "    \n",
    "    # Reset the observer and the random generators (same noise pattern)\n",
    "    observer.reset()\n",
    "    randFnW = GaussianNoiseGeneratorInput(varDynamics * kwargs['noise'])\n",
    "    randFnV = GaussianNoiseGeneratorOutput(varSensors * kwargs['noise'])\n",
    "    \n",
    "    new_odeopt = AdaptiveODEOptions(odeopt)  # Make a copy\n",
    "    new_odeopt.epsilon = kwargs['epsilon']\n",
    "    \n",
    "    # Simulate with new drone model\n",
    "    result = altered_drone.simulate(controller, observer, randFnW, randFnV, ref_function, x0, new_odeopt)\n",
    "    \n",
    "    end_time = time.time()\n",
    "    print('Simulation took {:.3f} ms'.format((end_time - start_time)*1000.0))\n",
    "\n",
    "    start_time = time.time()\n",
    "    DronePlotter.update_plot(lines, result)\n",
    "    fig.canvas.draw()\n",
    "    end_time = time.time()\n",
    "    print('Updating plot took {:.3f} ms'.format(\n",
    "          (end_time - start_time)*1000.0))\n",
    "\n",
    "def get_sliders():\n",
    "    display(HTML(\"<style>.widget-hslider { width:70% !important; }</style>\"))\n",
    "    display(HTML(\"<style>.widget-inline-hbox .widget-label { width:20% !important; }</style>\"))\n",
    "    return interact(update, \n",
    "         m=widgets.FloatSlider(min=1.0,max=3.0,step=0.1,value=1.85,continuous_update=False,description='mass (Model)'),\n",
    "         tau_m=widgets.FloatSlider(min=0.010,max=0.050,step=0.001,value=0.035,readout_format='.3f',continuous_update=False,description='motor time constant (Model)'),\n",
    "         Ixx=widgets.FloatSlider(min=0.010,max=0.050,step=0.001,value=0.032,readout_format='.3f',continuous_update=False,description='Ixx (Model)'),\n",
    "         Iyy=widgets.FloatSlider(min=0.010,max=0.050,step=0.001,value=0.032,readout_format='.3f',continuous_update=False,description='Iyy (Model)'),\n",
    "         Izz=widgets.FloatSlider(min=0.020,max=0.090,step=0.001,value=0.058,readout_format='.3f',continuous_update=False,description='Izz (Model)'),\n",
    "         cp=widgets.FloatSlider(min=0.010,max=0.070,step=0.001,value=0.04,readout_format='.3f',continuous_update=False,description='motor power coefficient (Model)'),\n",
    "         maxInt=widgets.FloatLogSlider(min=-1,max=3,step=0.1,value=maxIntegral,readout_format='.4f',continuous_update=False,description='maximum integral influence (C++)'),\n",
    "         Ki_alt=widgets.FloatLogSlider(min=-4,max=0,step=0.1,value=abs(K_pi_alt[3]),readout_format='.4f',continuous_update=False,description='altitude integral factor (C++)'),\n",
    "         alt_integral_enabled=widgets.Checkbox(value=True,description='enable altitude integral (C/C++)'),\n",
    "         nh_percent=widgets.FloatSlider(min=-10,max=10,step=0.5,value=0,readout_format='.1f',continuous_update=False,description='hovering motor speed error (%) (Model)'),\n",
    "         Ccontrollers=widgets.Checkbox(value=False,description='C controllers'),\n",
    "         config=widgets.IntSlider(min=1,max=4,step=1,value=1,continuous_update=False,description='configuration (C)'),\n",
    "         noise=widgets.FloatSlider(min=0,max=10,step=0.1,value=1,continuous_update=False,description='noise factor (Simulation)'),\n",
    "         epsilon=widgets.FloatLogSlider(min=-8,max=-3,step=0.1,value=odeopt.epsilon,continuous_update=False,description='epsilon (Simulation)'));"
   ]
  },
  {
   "cell_type": "code",
   "execution_count": null,
   "metadata": {
    "scrolled": false
   },
   "outputs": [],
   "source": [
    "get_sliders();"
   ]
  },
  {
   "cell_type": "code",
   "execution_count": null,
   "metadata": {},
   "outputs": [],
   "source": []
  }
 ],
 "metadata": {
  "kernelspec": {
   "display_name": "Python 3",
   "language": "python",
   "name": "python3"
  },
  "language_info": {
   "codemirror_mode": {
    "name": "ipython",
    "version": 3
   },
   "file_extension": ".py",
   "mimetype": "text/x-python",
   "name": "python",
   "nbconvert_exporter": "python",
   "pygments_lexer": "ipython3",
   "version": "3.6.8"
  }
 },
 "nbformat": 4,
 "nbformat_minor": 2
}
